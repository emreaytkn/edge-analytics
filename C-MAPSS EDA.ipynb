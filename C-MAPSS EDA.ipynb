{
 "cells": [
  {
   "cell_type": "markdown",
   "id": "a199c4db",
   "metadata": {},
   "source": [
    "**Keywords**: *Prognostic Health Management*"
   ]
  },
  {
   "cell_type": "code",
   "execution_count": 46,
   "id": "508b9ee3",
   "metadata": {},
   "outputs": [],
   "source": [
    "import pandas as pd\n",
    "import numpy as np\n",
    "\n",
    "# Data Visualization\n",
    "import matplotlib.pyplot as plt\n",
    "import seaborn as sns"
   ]
  },
  {
   "cell_type": "code",
   "execution_count": 6,
   "id": "7f73015e",
   "metadata": {},
   "outputs": [],
   "source": [
    "pd.set_option('display.max_columns', None) \n",
    "pd.set_option('display.max_rows', 500) \n",
    "pd.set_option('display.expand_frame_repr', False)"
   ]
  },
  {
   "cell_type": "markdown",
   "id": "bacbf916",
   "metadata": {},
   "source": [
    "Modern systems are currently monitored by multiple sensors that generates large volumes of data. For instance, for a Boeing 787, approximately 1000 parameters are continously monitored for the engine, leading to a total of 20 TB of data per flight hour.\n",
    "\n",
    "*Badea VE, Zamfiroiu A, Boncea R. \"Bigdata in the aerospace industry\". Inform Econ 2018; 22(1):17–24.*"
   ]
  },
  {
   "cell_type": "markdown",
   "id": "756f3c93",
   "metadata": {},
   "source": [
    "Important components in a turbofan engine as far as C-MAPSS data concerns are **Fan**, **Low Pressure Compressor (LPC)**, **High Pressure Compressor (HPC)**, **Low Pressure Turbine (LPT)**, and **High Pressure Turbine**. During the operation of engines, degradation occurs in each of the components. If degredation level in any component exceeds a threshold, the engine is said to have failed.\n",
    "\n",
    "- Jet engines are inspected before every take off, and this is a form of periodic maintenance that is not cost effective. Since the crucial nature of the operation, the strategy is justified to forsee possiblity of an engine to fail mid-air.\n",
    "- Also a system that is capable of issuing early warnings may help responsibles to prepare for the problem, if not prevent altogether. "
   ]
  },
  {
   "cell_type": "markdown",
   "id": "b1c8397d",
   "metadata": {},
   "source": [
    "This dataset was generated with C-MAPSS ('Commercial Modular Aero-Propulsion System Simulation') simulator. C-MAPSS is a tool for the simulation of realistic large commercial turbofan engine data. The time series data were collected from 21 sensors for each engine in the dataset.\n",
    "\n",
    "- Dataset contains data from same type of engine.\n",
    "- Engines were healthy in the early stages of operations and tended to degrade over time until a failure occurred.\n",
    "- Data was contaminated with sensor noise\n",
    "\n",
    "**Goal**: Predict the number of remaining operational cycles before a system failure occurs in the test set. "
   ]
  },
  {
   "cell_type": "code",
   "execution_count": 7,
   "id": "a6b12de7",
   "metadata": {},
   "outputs": [],
   "source": [
    "index_names = [\n",
    "    'engine', \n",
    "    'cycle'\n",
    "]\n",
    "\n",
    "setting_names = [\n",
    "    'setting_1', \n",
    "    'setting_2', \n",
    "    'setting_3'\n",
    "]\n",
    "\n",
    "sensor_names = [ \n",
    "    \"(Fan inlet temperature) (◦R)\",\n",
    "    \"(LPC outlet temperature) (◦R)\",\n",
    "    \"(HPC outlet temperature) (◦R)\",\n",
    "    \"(LPT outlet temperature) (◦R)\",\n",
    "    \"(Fan inlet Pressure) (psia)\",\n",
    "    \"(bypass-duct pressure) (psia)\",\n",
    "    \"(HPC outlet pressure) (psia)\",\n",
    "    \"(Physical fan speed) (rpm)\",\n",
    "    \"(Physical core speed) (rpm)\",\n",
    "    \"(Engine pressure ratio(P50/P2)\",\n",
    "    \"(HPC outlet Static pressure) (psia)\",\n",
    "    \"(Ratio of fuel flow to Ps30) (pps/psia)\",\n",
    "    \"(Corrected fan speed) (rpm)\",\n",
    "    \"(Corrected core speed) (rpm)\",\n",
    "    \"(Bypass Ratio) \",\n",
    "    \"(Burner fuel-air ratio)\",\n",
    "    \"(Bleed Enthalpy)\",\n",
    "    \"(Required fan speed)\",\n",
    "    \"(Required fan conversion speed)\",\n",
    "    \"(High-pressure turbines Cool air flow)\",\n",
    "    \"(Low-pressure turbines Cool air flow)\"\n",
    "]\n",
    "\n",
    "col_names = index_names + setting_names + sensor_names"
   ]
  },
  {
   "cell_type": "code",
   "execution_count": 8,
   "id": "dbe31a45",
   "metadata": {},
   "outputs": [
    {
     "data": {
      "text/html": [
       "<div>\n",
       "<style scoped>\n",
       "    .dataframe tbody tr th:only-of-type {\n",
       "        vertical-align: middle;\n",
       "    }\n",
       "\n",
       "    .dataframe tbody tr th {\n",
       "        vertical-align: top;\n",
       "    }\n",
       "\n",
       "    .dataframe thead th {\n",
       "        text-align: right;\n",
       "    }\n",
       "</style>\n",
       "<table border=\"1\" class=\"dataframe\">\n",
       "  <thead>\n",
       "    <tr style=\"text-align: right;\">\n",
       "      <th></th>\n",
       "      <th>engine</th>\n",
       "      <th>cycle</th>\n",
       "      <th>setting_1</th>\n",
       "      <th>setting_2</th>\n",
       "      <th>setting_3</th>\n",
       "      <th>(Fan inlet temperature) (◦R)</th>\n",
       "      <th>(LPC outlet temperature) (◦R)</th>\n",
       "      <th>(HPC outlet temperature) (◦R)</th>\n",
       "      <th>(LPT outlet temperature) (◦R)</th>\n",
       "      <th>(Fan inlet Pressure) (psia)</th>\n",
       "      <th>(bypass-duct pressure) (psia)</th>\n",
       "      <th>(HPC outlet pressure) (psia)</th>\n",
       "      <th>(Physical fan speed) (rpm)</th>\n",
       "      <th>(Physical core speed) (rpm)</th>\n",
       "      <th>(Engine pressure ratio(P50/P2)</th>\n",
       "      <th>(HPC outlet Static pressure) (psia)</th>\n",
       "      <th>(Ratio of fuel flow to Ps30) (pps/psia)</th>\n",
       "      <th>(Corrected fan speed) (rpm)</th>\n",
       "      <th>(Corrected core speed) (rpm)</th>\n",
       "      <th>(Bypass Ratio)</th>\n",
       "      <th>(Burner fuel-air ratio)</th>\n",
       "      <th>(Bleed Enthalpy)</th>\n",
       "      <th>(Required fan speed)</th>\n",
       "      <th>(Required fan conversion speed)</th>\n",
       "      <th>(High-pressure turbines Cool air flow)</th>\n",
       "      <th>(Low-pressure turbines Cool air flow)</th>\n",
       "    </tr>\n",
       "  </thead>\n",
       "  <tbody>\n",
       "    <tr>\n",
       "      <th>0</th>\n",
       "      <td>1</td>\n",
       "      <td>1</td>\n",
       "      <td>-0.0007</td>\n",
       "      <td>-0.0004</td>\n",
       "      <td>100.0</td>\n",
       "      <td>518.67</td>\n",
       "      <td>641.82</td>\n",
       "      <td>1589.70</td>\n",
       "      <td>1400.60</td>\n",
       "      <td>14.62</td>\n",
       "      <td>21.61</td>\n",
       "      <td>554.36</td>\n",
       "      <td>2388.06</td>\n",
       "      <td>9046.19</td>\n",
       "      <td>1.3</td>\n",
       "      <td>47.47</td>\n",
       "      <td>521.66</td>\n",
       "      <td>2388.02</td>\n",
       "      <td>8138.62</td>\n",
       "      <td>8.4195</td>\n",
       "      <td>0.03</td>\n",
       "      <td>392</td>\n",
       "      <td>2388</td>\n",
       "      <td>100.0</td>\n",
       "      <td>39.06</td>\n",
       "      <td>23.4190</td>\n",
       "    </tr>\n",
       "    <tr>\n",
       "      <th>1</th>\n",
       "      <td>1</td>\n",
       "      <td>2</td>\n",
       "      <td>0.0019</td>\n",
       "      <td>-0.0003</td>\n",
       "      <td>100.0</td>\n",
       "      <td>518.67</td>\n",
       "      <td>642.15</td>\n",
       "      <td>1591.82</td>\n",
       "      <td>1403.14</td>\n",
       "      <td>14.62</td>\n",
       "      <td>21.61</td>\n",
       "      <td>553.75</td>\n",
       "      <td>2388.04</td>\n",
       "      <td>9044.07</td>\n",
       "      <td>1.3</td>\n",
       "      <td>47.49</td>\n",
       "      <td>522.28</td>\n",
       "      <td>2388.07</td>\n",
       "      <td>8131.49</td>\n",
       "      <td>8.4318</td>\n",
       "      <td>0.03</td>\n",
       "      <td>392</td>\n",
       "      <td>2388</td>\n",
       "      <td>100.0</td>\n",
       "      <td>39.00</td>\n",
       "      <td>23.4236</td>\n",
       "    </tr>\n",
       "    <tr>\n",
       "      <th>2</th>\n",
       "      <td>1</td>\n",
       "      <td>3</td>\n",
       "      <td>-0.0043</td>\n",
       "      <td>0.0003</td>\n",
       "      <td>100.0</td>\n",
       "      <td>518.67</td>\n",
       "      <td>642.35</td>\n",
       "      <td>1587.99</td>\n",
       "      <td>1404.20</td>\n",
       "      <td>14.62</td>\n",
       "      <td>21.61</td>\n",
       "      <td>554.26</td>\n",
       "      <td>2388.08</td>\n",
       "      <td>9052.94</td>\n",
       "      <td>1.3</td>\n",
       "      <td>47.27</td>\n",
       "      <td>522.42</td>\n",
       "      <td>2388.03</td>\n",
       "      <td>8133.23</td>\n",
       "      <td>8.4178</td>\n",
       "      <td>0.03</td>\n",
       "      <td>390</td>\n",
       "      <td>2388</td>\n",
       "      <td>100.0</td>\n",
       "      <td>38.95</td>\n",
       "      <td>23.3442</td>\n",
       "    </tr>\n",
       "    <tr>\n",
       "      <th>3</th>\n",
       "      <td>1</td>\n",
       "      <td>4</td>\n",
       "      <td>0.0007</td>\n",
       "      <td>0.0000</td>\n",
       "      <td>100.0</td>\n",
       "      <td>518.67</td>\n",
       "      <td>642.35</td>\n",
       "      <td>1582.79</td>\n",
       "      <td>1401.87</td>\n",
       "      <td>14.62</td>\n",
       "      <td>21.61</td>\n",
       "      <td>554.45</td>\n",
       "      <td>2388.11</td>\n",
       "      <td>9049.48</td>\n",
       "      <td>1.3</td>\n",
       "      <td>47.13</td>\n",
       "      <td>522.86</td>\n",
       "      <td>2388.08</td>\n",
       "      <td>8133.83</td>\n",
       "      <td>8.3682</td>\n",
       "      <td>0.03</td>\n",
       "      <td>392</td>\n",
       "      <td>2388</td>\n",
       "      <td>100.0</td>\n",
       "      <td>38.88</td>\n",
       "      <td>23.3739</td>\n",
       "    </tr>\n",
       "    <tr>\n",
       "      <th>4</th>\n",
       "      <td>1</td>\n",
       "      <td>5</td>\n",
       "      <td>-0.0019</td>\n",
       "      <td>-0.0002</td>\n",
       "      <td>100.0</td>\n",
       "      <td>518.67</td>\n",
       "      <td>642.37</td>\n",
       "      <td>1582.85</td>\n",
       "      <td>1406.22</td>\n",
       "      <td>14.62</td>\n",
       "      <td>21.61</td>\n",
       "      <td>554.00</td>\n",
       "      <td>2388.06</td>\n",
       "      <td>9055.15</td>\n",
       "      <td>1.3</td>\n",
       "      <td>47.28</td>\n",
       "      <td>522.19</td>\n",
       "      <td>2388.04</td>\n",
       "      <td>8133.80</td>\n",
       "      <td>8.4294</td>\n",
       "      <td>0.03</td>\n",
       "      <td>393</td>\n",
       "      <td>2388</td>\n",
       "      <td>100.0</td>\n",
       "      <td>38.90</td>\n",
       "      <td>23.4044</td>\n",
       "    </tr>\n",
       "  </tbody>\n",
       "</table>\n",
       "</div>"
      ],
      "text/plain": [
       "   engine  cycle  setting_1  setting_2  setting_3  (Fan inlet temperature) (◦R)  (LPC outlet temperature) (◦R)  (HPC outlet temperature) (◦R)  (LPT outlet temperature) (◦R)  (Fan inlet Pressure) (psia)  (bypass-duct pressure) (psia)  (HPC outlet pressure) (psia)  (Physical fan speed) (rpm)  (Physical core speed) (rpm)  (Engine pressure ratio(P50/P2)  (HPC outlet Static pressure) (psia)  (Ratio of fuel flow to Ps30) (pps/psia)  (Corrected fan speed) (rpm)  (Corrected core speed) (rpm)  (Bypass Ratio)   (Burner fuel-air ratio)  (Bleed Enthalpy)  (Required fan speed)  (Required fan conversion speed)  (High-pressure turbines Cool air flow)  (Low-pressure turbines Cool air flow)\n",
       "0       1      1    -0.0007    -0.0004      100.0                        518.67                         641.82                        1589.70                        1400.60                        14.62                          21.61                        554.36                     2388.06                      9046.19                             1.3                                47.47                                   521.66                      2388.02                       8138.62           8.4195                     0.03               392                  2388                            100.0                                   39.06                                23.4190\n",
       "1       1      2     0.0019    -0.0003      100.0                        518.67                         642.15                        1591.82                        1403.14                        14.62                          21.61                        553.75                     2388.04                      9044.07                             1.3                                47.49                                   522.28                      2388.07                       8131.49           8.4318                     0.03               392                  2388                            100.0                                   39.00                                23.4236\n",
       "2       1      3    -0.0043     0.0003      100.0                        518.67                         642.35                        1587.99                        1404.20                        14.62                          21.61                        554.26                     2388.08                      9052.94                             1.3                                47.27                                   522.42                      2388.03                       8133.23           8.4178                     0.03               390                  2388                            100.0                                   38.95                                23.3442\n",
       "3       1      4     0.0007     0.0000      100.0                        518.67                         642.35                        1582.79                        1401.87                        14.62                          21.61                        554.45                     2388.11                      9049.48                             1.3                                47.13                                   522.86                      2388.08                       8133.83           8.3682                     0.03               392                  2388                            100.0                                   38.88                                23.3739\n",
       "4       1      5    -0.0019    -0.0002      100.0                        518.67                         642.37                        1582.85                        1406.22                        14.62                          21.61                        554.00                     2388.06                      9055.15                             1.3                                47.28                                   522.19                      2388.04                       8133.80           8.4294                     0.03               393                  2388                            100.0                                   38.90                                23.4044"
      ]
     },
     "execution_count": 8,
     "metadata": {},
     "output_type": "execute_result"
    }
   ],
   "source": [
    "df_train = pd.read_csv('CMAPSSData/train_FD001.txt', sep='\\s+', header=None, names=col_names)\n",
    "\n",
    "df_train.head()"
   ]
  },
  {
   "cell_type": "code",
   "execution_count": 9,
   "id": "0270b94f",
   "metadata": {},
   "outputs": [
    {
     "data": {
      "text/plain": [
       "(20631, 26)"
      ]
     },
     "execution_count": 9,
     "metadata": {},
     "output_type": "execute_result"
    }
   ],
   "source": [
    "df_train.shape"
   ]
  },
  {
   "cell_type": "markdown",
   "id": "197c6367",
   "metadata": {},
   "source": [
    "**Column 1** corresponds to engine number."
   ]
  },
  {
   "cell_type": "code",
   "execution_count": 12,
   "id": "d0772caf",
   "metadata": {},
   "outputs": [
    {
     "name": "stdout",
     "output_type": "stream",
     "text": [
      "There are a total of 100 engines.\n"
     ]
    }
   ],
   "source": [
    "print(f\"There are a total of {len(np.unique(df_train['engine']))} engines.\")"
   ]
  },
  {
   "cell_type": "code",
   "execution_count": 34,
   "id": "b80d439d",
   "metadata": {},
   "outputs": [
    {
     "name": "stdout",
     "output_type": "stream",
     "text": [
      "There are 0 missing values\n"
     ]
    }
   ],
   "source": [
    "# Check if there is any missing values in the training set\n",
    "\n",
    "print(f\"There are {df_train.isna().sum().sum()} missing values\")"
   ]
  },
  {
   "cell_type": "markdown",
   "id": "44a12e6d",
   "metadata": {},
   "source": [
    "#### After how many cycles does each engine fail? "
   ]
  },
  {
   "cell_type": "code",
   "execution_count": 29,
   "id": "4914496c",
   "metadata": {},
   "outputs": [
    {
     "name": "stdout",
     "output_type": "stream",
     "text": [
      "[192, 287, 179, 189, 269, 188, 259, 150, 201, 222, 240, 170, 163, 180, 207, 209, 276, 195, 158, 234, 195, 202, 168, 147, 230, 199, 156, 165, 163, 194, 234, 191, 200, 195, 181, 158, 170, 194, 128, 188, 216, 196, 207, 192, 158, 256, 214, 231, 215, 198, 213, 213, 195, 257, 193, 275, 137, 147, 231, 172, 185, 180, 174, 283, 153, 202, 313, 199, 362, 137, 208, 213, 213, 166, 229, 210, 154, 231, 199, 185, 240, 214, 293, 267, 188, 278, 178, 213, 217, 154, 135, 341, 155, 258, 283, 336, 202, 156, 185, 200]\n"
     ]
    }
   ],
   "source": [
    "print(df_train.groupby('engine').size().to_list())"
   ]
  },
  {
   "cell_type": "markdown",
   "id": "f44e0d90",
   "metadata": {},
   "source": [
    "We can see that engine 1 failed after 192 cycles, and engine 2 failed after 287 cycles.\n",
    "\n",
    "> At the first cycle of *Engine 1*, its **RUL** is 191. After cycle 2, its **RUL** is 190 and so on. As it fails after 192 cycles, at 192nd cycle, its **RUL** is 0. This type of degredation model is called linear degredation model. From the start of the cycle it decreases gradually to 0 at the last cycle."
   ]
  },
  {
   "cell_type": "markdown",
   "id": "da1cbcfb",
   "metadata": {},
   "source": [
    "#### Distribution of maximum time cycles"
   ]
  },
  {
   "cell_type": "code",
   "execution_count": 39,
   "id": "1346dd31",
   "metadata": {},
   "outputs": [],
   "source": [
    "max_cycles = df_train[index_names].groupby('engine').max()"
   ]
  },
  {
   "cell_type": "code",
   "execution_count": 45,
   "id": "1770048d",
   "metadata": {},
   "outputs": [
    {
     "data": {
      "text/plain": [
       "cycle    192\n",
       "Name: 1, dtype: int64"
      ]
     },
     "execution_count": 45,
     "metadata": {},
     "output_type": "execute_result"
    }
   ],
   "source": [
    "max_cycles.iloc[0]"
   ]
  },
  {
   "cell_type": "code",
   "execution_count": 44,
   "id": "9cacba47",
   "metadata": {},
   "outputs": [
    {
     "data": {
      "text/html": [
       "<div>\n",
       "<style scoped>\n",
       "    .dataframe tbody tr th:only-of-type {\n",
       "        vertical-align: middle;\n",
       "    }\n",
       "\n",
       "    .dataframe tbody tr th {\n",
       "        vertical-align: top;\n",
       "    }\n",
       "\n",
       "    .dataframe thead th {\n",
       "        text-align: right;\n",
       "    }\n",
       "</style>\n",
       "<table border=\"1\" class=\"dataframe\">\n",
       "  <thead>\n",
       "    <tr style=\"text-align: right;\">\n",
       "      <th></th>\n",
       "      <th>cycle</th>\n",
       "    </tr>\n",
       "    <tr>\n",
       "      <th>engine</th>\n",
       "      <th></th>\n",
       "    </tr>\n",
       "  </thead>\n",
       "  <tbody>\n",
       "    <tr>\n",
       "      <th>1</th>\n",
       "      <td>192</td>\n",
       "    </tr>\n",
       "    <tr>\n",
       "      <th>2</th>\n",
       "      <td>287</td>\n",
       "    </tr>\n",
       "    <tr>\n",
       "      <th>3</th>\n",
       "      <td>179</td>\n",
       "    </tr>\n",
       "    <tr>\n",
       "      <th>4</th>\n",
       "      <td>189</td>\n",
       "    </tr>\n",
       "    <tr>\n",
       "      <th>5</th>\n",
       "      <td>269</td>\n",
       "    </tr>\n",
       "  </tbody>\n",
       "</table>\n",
       "</div>"
      ],
      "text/plain": [
       "        cycle\n",
       "engine       \n",
       "1         192\n",
       "2         287\n",
       "3         179\n",
       "4         189\n",
       "5         269"
      ]
     },
     "execution_count": 44,
     "metadata": {},
     "output_type": "execute_result"
    }
   ],
   "source": [
    "max_cycles.head()"
   ]
  },
  {
   "cell_type": "code",
   "execution_count": 60,
   "id": "4128706e",
   "metadata": {},
   "outputs": [
    {
     "data": {
      "text/plain": [
       "Text(0.5, 6.79999999999999, 'max cycle')"
      ]
     },
     "execution_count": 60,
     "metadata": {},
     "output_type": "execute_result"
    },
    {
     "data": {
      "image/png": "[encoded data removed]",
      "text/plain": [
       "<Figure size 720x360 with 1 Axes>"
      ]
     },
     "metadata": {
      "needs_background": "light"
     },
     "output_type": "display_data"
    }
   ],
   "source": [
    "sns.displot(max_cycles['cycle'], kde=True, bins=20, height=5, aspect=2, color='#5e548e')\n",
    "plt.xlabel('max cycle')"
   ]
  },
  {
   "cell_type": "markdown",
   "id": "ec12ad78",
   "metadata": {},
   "source": [
    "From the training data, we can infer that maximum operational cycles that an engine can achieve is between 190 and 210 before a HPC failure occurs."
   ]
  },
  {
   "cell_type": "code",
   "execution_count": null,
   "id": "8726b9cf",
   "metadata": {},
   "outputs": [],
   "source": []
  }
 ],
 "metadata": {
  "kernelspec": {
   "display_name": "Python 3 (ipykernel)",
   "language": "python",
   "name": "python3"
  },
  "language_info": {
   "codemirror_mode": {
    "name": "ipython",
    "version": 3
   },
   "file_extension": ".py",
   "mimetype": "text/x-python",
   "name": "python",
   "nbconvert_exporter": "python",
   "pygments_lexer": "ipython3",
   "version": "3.9.12"
  }
 },
 "nbformat": 4,
 "nbformat_minor": 5
}
